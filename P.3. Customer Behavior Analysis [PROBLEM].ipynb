{
 "cells": [
  {
   "cell_type": "markdown",
   "id": "ab1b6fc1",
   "metadata": {},
   "source": [
    "# E-commerce data EDA for Customer Behavior Analysis\n",
    "\n",
    "EDA (Exploratory Data Analysis) of E-Commerce data will help us understand the data and think of ways to use it to understand the customer behavior."
   ]
  },
  {
   "cell_type": "markdown",
   "id": "4bd486a4",
   "metadata": {},
   "source": [
    "## 1. Load libraries"
   ]
  },
  {
   "cell_type": "markdown",
   "id": "d5f06b58",
   "metadata": {},
   "source": [
    "## 2. Load Data"
   ]
  },
  {
   "cell_type": "markdown",
   "id": "e9e2f62c",
   "metadata": {},
   "source": [
    "## EDA\n",
    "\n",
    "With every new dataset we need to got throuhg an EDA (Exploratory Data Analysis) process. It's a good idea to have a basic framework in mind for our EDAs. It is always a good idea to: \n",
    "\n",
    "- Understand what our columns say\n",
    "- Rename columns labels and make them lowercase\n",
    "- Make sure that the data types of columns are correct\n",
    "- Handle missing values\n",
    "- Check for duplicates\n",
    "- Search for outliers\n",
    "- Check for linearity between variables\n",
    "\n",
    "To achieve this we can take advantage of Pandas and visualisation libraries"
   ]
  },
  {
   "cell_type": "markdown",
   "id": "0a0cbc18",
   "metadata": {},
   "source": [
    "## Statistical Analysis\n",
    "\n",
    "Are there missing values in the data? (see .info() results) so we can move on and check our descriptive statistics with the .describe() function. "
   ]
  },
  {
   "cell_type": "markdown",
   "id": "9f6d1d6a",
   "metadata": {},
   "source": [
    "## 3. Handle Missing Values\n",
    "\n",
    "Missing values can be an issue with most real-life datasets. We can use the .info() function, there are no missing values. For the sake of double checking and to show a way of checking whether the dataset has missing values, let's write some code below"
   ]
  },
  {
   "cell_type": "markdown",
   "id": "671a5dee",
   "metadata": {},
   "source": [
    "## 4. Check for duplicates\n",
    "\n",
    "Another common issue with data is duplicated records. We need to make sure to always check for duplicates"
   ]
  },
  {
   "cell_type": "markdown",
   "id": "5b713611",
   "metadata": {},
   "source": [
    "## 5. Search for outliers\n",
    "\n",
    "- Outliers are data points at the extreme points of a dataset. \n",
    "- Some outliers represent true values from natural variation in the population and some occur because of dirty or incorect data.\n",
    "    - Because of this, we need to be careful when we cleanse our data\n",
    "    - If the outliers are True outliers, we should probably keep them in our data since they represent natural variations in our sample\n",
    "    - If the outliers are errors we should generally remove those data points\n",
    "    \n",
    "We've already identified some potential outliers from our .describe() function with session durations, average order value, promotion clicks, sale product views, app transactions, account length, add to wish list, desktop sessions, and customer service calls.\n",
    "\n",
    "To identify our outliers we can use: \n",
    "- Visualisations such as histograms and blox plots \n",
    "- Use interquartiles with rules such as:\n",
    "    - outlier < Q1 - 1.5(IQR)\n",
    "    - outlier > Q3 + 1.5(IQR)"
   ]
  },
  {
   "cell_type": "markdown",
   "id": "b3c762a5",
   "metadata": {},
   "source": [
    "### 6. Repeat with the rest of the variables\n",
    "\n",
    "This is EDA, so we are going to visualize all the variables we identified as having potentail outliers"
   ]
  },
  {
   "cell_type": "markdown",
   "id": "5d83a2d5-efa2-49b2-ba59-a62900a2fa60",
   "metadata": {},
   "source": [
    "# 7. Conclusions based on visualisations\n",
    "\n",
    "- All of the numerical variables in the dataset has outliers from a statistical point of view. What is apparent is that all of the outliers represent natural variations as in e-commerce we expect such variations, making the outliers **\"True outliers\"**.\n",
    "- If we had Outliers that we believe them to be data errors we could always use techniques such as removing all data points that are < Q1 - 1.5(IQR) and > Q3 +1.5(IQR) or removing data points that are 3 standard deviations below or above mean (example code below if you need to use it)"
   ]
  },
  {
   "cell_type": "markdown",
   "id": "8d2406f3-4ee5-43a2-b49c-5995adf6b902",
   "metadata": {},
   "source": [
    "# 8. Analysis of the Dependent variable (Churn) vs Idependent variables\n",
    "\n",
    "Until now we've looked into the numeric variables, their missing data, duplicates, distribution, and outliers. A key part of the customer behaviour data is to understand which \"behaviours\" aka idependent varialbes in our dataset can help us predict customers deciding to stop using the product, aka \"churn\".\n",
    "\n",
    "Another variable that we haven't analysed yet is the location code, but we might be able to find value in comparing it with the churn and finding out any potential correlations."
   ]
  },
  {
   "cell_type": "markdown",
   "id": "8e302b13-6f52-437a-a95e-048d9dc86597",
   "metadata": {},
   "source": [
    "# 9. Plot Churn against the categorical data"
   ]
  },
  {
   "cell_type": "markdown",
   "id": "13ee1b09-6fb5-4530-bb52-5093799acb55",
   "metadata": {},
   "source": [
    "# 9.1 Observations from the categorical columns plots\n",
    "\n",
    "- Majority of customers are in location code 415\n",
    "- Majority of customers don't allow push notifications\n",
    "- Majority of customers don't store their credit card information on the side"
   ]
  },
  {
   "cell_type": "markdown",
   "id": "b1c2d148-1a39-4269-ad19-bc90a2c6b9e7",
   "metadata": {},
   "source": [
    "# 9.2 Plot categorical data against the Churn"
   ]
  },
  {
   "cell_type": "markdown",
   "id": "5026a0b3-bf84-4423-8a2b-9fbd2285b2cc",
   "metadata": {},
   "source": [
    "# 9.3 Observations from plotting categorical data against Churn\n",
    "\n",
    "- The location codes have a similar percentage of churns, meaning that location might not be a strong indication for churn\n",
    "- Customers with push status activated are less likely to be churns, meaning that motivating customers to activate push status might help minimize churns\n",
    "- Customers with their credit card information saved on the side are far less likely to be churns than customers without their credit card info saved. This means that if the shop motivates people to save their credit card info might minimize churns. \n",
    "    - This makes sense since customers who trust their credit card info on a side indicate that they trust the brand. More trust less chances of customers leaving your business."
   ]
  },
  {
   "cell_type": "code",
   "execution_count": null,
   "id": "c75f83db-290c-4421-ad23-81613e8f608e",
   "metadata": {},
   "outputs": [],
   "source": []
  }
 ],
 "metadata": {
  "kernelspec": {
   "display_name": "Python 3 (ipykernel)",
   "language": "python",
   "name": "python3"
  },
  "language_info": {
   "codemirror_mode": {
    "name": "ipython",
    "version": 3
   },
   "file_extension": ".py",
   "mimetype": "text/x-python",
   "name": "python",
   "nbconvert_exporter": "python",
   "pygments_lexer": "ipython3",
   "version": "3.9.16"
  }
 },
 "nbformat": 4,
 "nbformat_minor": 5
}
